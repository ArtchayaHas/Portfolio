{
 "cells": [
  {
   "cell_type": "code",
   "execution_count": 1,
   "metadata": {
    "id": "SbCJ9fj20xQo"
   },
   "outputs": [],
   "source": [
    "import pandas as pd\n",
    "import numpy as np\n",
    "import matplotlib.pyplot as plt\n",
    "import seaborn as sns\n",
    "%matplotlib inline "
   ]
  },
  {
   "cell_type": "markdown",
   "metadata": {
    "id": "Gy4rcXLy2Izs",
    "tags": []
   },
   "source": [
    "##### **Data Source**\n",
    "https://www.kaggle.com/datasets/arashnic/covid19-hospital-treatment\n",
    "\n",
    "Purpose\n",
    "- To predict length of stay (LOS) of patients which importance for hospital management, including the healthcare worker arrangement, supply of healthcare treatment, and accessibility of other patients."
   ]
  },
  {
   "cell_type": "markdown",
   "metadata": {},
   "source": [
    "### **1. Exploring and cleaning data**\n",
    "- Drop unused columns\n",
    "- How many null value?\n",
    "- Is type of the data proper?\n",
    "- Visualization; distribution of numerical values and Number of categorical values"
   ]
  },
  {
   "cell_type": "code",
   "execution_count": 2,
   "metadata": {
    "id": "tJGh_XOY0yuE"
   },
   "outputs": [],
   "source": [
    "df = pd.read_csv('host_train.csv')"
   ]
  },
  {
   "cell_type": "code",
   "execution_count": 42,
   "metadata": {
    "colab": {
     "base_uri": "https://localhost:8080/",
     "height": 374
    },
    "executionInfo": {
     "elapsed": 367,
     "status": "ok",
     "timestamp": 1674112647763,
     "user": {
      "displayName": "Nice Kurosawa",
      "userId": "06857346688966198691"
     },
     "user_tz": -420
    },
    "id": "m024nunt0zcy",
    "outputId": "38a9538b-82f5-4166-eddb-12662a1cb78e"
   },
   "outputs": [
    {
     "data": {
      "text/html": [
       "<div>\n",
       "<style scoped>\n",
       "    .dataframe tbody tr th:only-of-type {\n",
       "        vertical-align: middle;\n",
       "    }\n",
       "\n",
       "    .dataframe tbody tr th {\n",
       "        vertical-align: top;\n",
       "    }\n",
       "\n",
       "    .dataframe thead th {\n",
       "        text-align: right;\n",
       "    }\n",
       "</style>\n",
       "<table border=\"1\" class=\"dataframe\">\n",
       "  <thead>\n",
       "    <tr style=\"text-align: right;\">\n",
       "      <th></th>\n",
       "      <th>case_id</th>\n",
       "      <th>Hospital</th>\n",
       "      <th>Hospital_type</th>\n",
       "      <th>Hospital_city</th>\n",
       "      <th>Hospital_region</th>\n",
       "      <th>Available_Extra_Rooms_in_Hospital</th>\n",
       "      <th>Department</th>\n",
       "      <th>Ward_Type</th>\n",
       "      <th>Ward_Facility</th>\n",
       "      <th>Bed_Grade</th>\n",
       "      <th>patientid</th>\n",
       "      <th>City_Code_Patient</th>\n",
       "      <th>Type of Admission</th>\n",
       "      <th>Illness_Severity</th>\n",
       "      <th>Patient_Visitors</th>\n",
       "      <th>Age</th>\n",
       "      <th>Admission_Deposit</th>\n",
       "      <th>Stay_Days</th>\n",
       "    </tr>\n",
       "  </thead>\n",
       "  <tbody>\n",
       "    <tr>\n",
       "      <th>0</th>\n",
       "      <td>1</td>\n",
       "      <td>8</td>\n",
       "      <td>2</td>\n",
       "      <td>3</td>\n",
       "      <td>2</td>\n",
       "      <td>3</td>\n",
       "      <td>radiotherapy</td>\n",
       "      <td>R</td>\n",
       "      <td>F</td>\n",
       "      <td>2.0</td>\n",
       "      <td>31397</td>\n",
       "      <td>7.0</td>\n",
       "      <td>Emergency</td>\n",
       "      <td>Extreme</td>\n",
       "      <td>2</td>\n",
       "      <td>51-60</td>\n",
       "      <td>4911.0</td>\n",
       "      <td>0-10</td>\n",
       "    </tr>\n",
       "    <tr>\n",
       "      <th>1</th>\n",
       "      <td>2</td>\n",
       "      <td>2</td>\n",
       "      <td>2</td>\n",
       "      <td>5</td>\n",
       "      <td>2</td>\n",
       "      <td>2</td>\n",
       "      <td>radiotherapy</td>\n",
       "      <td>S</td>\n",
       "      <td>F</td>\n",
       "      <td>2.0</td>\n",
       "      <td>31397</td>\n",
       "      <td>7.0</td>\n",
       "      <td>Trauma</td>\n",
       "      <td>Extreme</td>\n",
       "      <td>2</td>\n",
       "      <td>51-60</td>\n",
       "      <td>5954.0</td>\n",
       "      <td>41-50</td>\n",
       "    </tr>\n",
       "    <tr>\n",
       "      <th>2</th>\n",
       "      <td>3</td>\n",
       "      <td>10</td>\n",
       "      <td>4</td>\n",
       "      <td>1</td>\n",
       "      <td>0</td>\n",
       "      <td>2</td>\n",
       "      <td>anesthesia</td>\n",
       "      <td>S</td>\n",
       "      <td>E</td>\n",
       "      <td>2.0</td>\n",
       "      <td>31397</td>\n",
       "      <td>7.0</td>\n",
       "      <td>Trauma</td>\n",
       "      <td>Extreme</td>\n",
       "      <td>2</td>\n",
       "      <td>51-60</td>\n",
       "      <td>4745.0</td>\n",
       "      <td>31-40</td>\n",
       "    </tr>\n",
       "    <tr>\n",
       "      <th>3</th>\n",
       "      <td>4</td>\n",
       "      <td>26</td>\n",
       "      <td>1</td>\n",
       "      <td>2</td>\n",
       "      <td>1</td>\n",
       "      <td>2</td>\n",
       "      <td>radiotherapy</td>\n",
       "      <td>R</td>\n",
       "      <td>D</td>\n",
       "      <td>2.0</td>\n",
       "      <td>31397</td>\n",
       "      <td>7.0</td>\n",
       "      <td>Trauma</td>\n",
       "      <td>Extreme</td>\n",
       "      <td>2</td>\n",
       "      <td>51-60</td>\n",
       "      <td>7272.0</td>\n",
       "      <td>41-50</td>\n",
       "    </tr>\n",
       "    <tr>\n",
       "      <th>4</th>\n",
       "      <td>5</td>\n",
       "      <td>26</td>\n",
       "      <td>1</td>\n",
       "      <td>2</td>\n",
       "      <td>1</td>\n",
       "      <td>2</td>\n",
       "      <td>radiotherapy</td>\n",
       "      <td>S</td>\n",
       "      <td>D</td>\n",
       "      <td>2.0</td>\n",
       "      <td>31397</td>\n",
       "      <td>7.0</td>\n",
       "      <td>Trauma</td>\n",
       "      <td>Extreme</td>\n",
       "      <td>2</td>\n",
       "      <td>51-60</td>\n",
       "      <td>5558.0</td>\n",
       "      <td>41-50</td>\n",
       "    </tr>\n",
       "  </tbody>\n",
       "</table>\n",
       "</div>"
      ],
      "text/plain": [
       "   case_id  Hospital  Hospital_type  Hospital_city  Hospital_region  \\\n",
       "0        1         8              2              3                2   \n",
       "1        2         2              2              5                2   \n",
       "2        3        10              4              1                0   \n",
       "3        4        26              1              2                1   \n",
       "4        5        26              1              2                1   \n",
       "\n",
       "   Available_Extra_Rooms_in_Hospital    Department Ward_Type Ward_Facility  \\\n",
       "0                                  3  radiotherapy         R             F   \n",
       "1                                  2  radiotherapy         S             F   \n",
       "2                                  2    anesthesia         S             E   \n",
       "3                                  2  radiotherapy         R             D   \n",
       "4                                  2  radiotherapy         S             D   \n",
       "\n",
       "   Bed_Grade  patientid  City_Code_Patient Type of Admission Illness_Severity  \\\n",
       "0        2.0      31397                7.0         Emergency          Extreme   \n",
       "1        2.0      31397                7.0            Trauma          Extreme   \n",
       "2        2.0      31397                7.0            Trauma          Extreme   \n",
       "3        2.0      31397                7.0            Trauma          Extreme   \n",
       "4        2.0      31397                7.0            Trauma          Extreme   \n",
       "\n",
       "   Patient_Visitors    Age  Admission_Deposit Stay_Days  \n",
       "0                 2  51-60             4911.0      0-10  \n",
       "1                 2  51-60             5954.0     41-50  \n",
       "2                 2  51-60             4745.0     31-40  \n",
       "3                 2  51-60             7272.0     41-50  \n",
       "4                 2  51-60             5558.0     41-50  "
      ]
     },
     "execution_count": 42,
     "metadata": {},
     "output_type": "execute_result"
    }
   ],
   "source": [
    "df.head()"
   ]
  },
  {
   "cell_type": "code",
   "execution_count": 12,
   "metadata": {},
   "outputs": [],
   "source": [
    "df.drop(['case_id', 'patientid'], axis = 1, inplace = True)"
   ]
  },
  {
   "cell_type": "code",
   "execution_count": 44,
   "metadata": {
    "colab": {
     "base_uri": "https://localhost:8080/"
    },
    "executionInfo": {
     "elapsed": 386,
     "status": "ok",
     "timestamp": 1674112656371,
     "user": {
      "displayName": "Nice Kurosawa",
      "userId": "06857346688966198691"
     },
     "user_tz": -420
    },
    "id": "tKSuRjzc0zf6",
    "outputId": "8278dddd-d5d7-4eba-fba5-43c0f817b046"
   },
   "outputs": [
    {
     "name": "stdout",
     "output_type": "stream",
     "text": [
      "<class 'pandas.core.frame.DataFrame'>\n",
      "RangeIndex: 318438 entries, 0 to 318437\n",
      "Data columns (total 16 columns):\n",
      " #   Column                             Non-Null Count   Dtype  \n",
      "---  ------                             --------------   -----  \n",
      " 0   Hospital                           318438 non-null  int64  \n",
      " 1   Hospital_type                      318438 non-null  int64  \n",
      " 2   Hospital_city                      318438 non-null  int64  \n",
      " 3   Hospital_region                    318438 non-null  int64  \n",
      " 4   Available_Extra_Rooms_in_Hospital  318438 non-null  int64  \n",
      " 5   Department                         318438 non-null  object \n",
      " 6   Ward_Type                          318438 non-null  object \n",
      " 7   Ward_Facility                      318438 non-null  object \n",
      " 8   Bed_Grade                          318325 non-null  float64\n",
      " 9   City_Code_Patient                  313906 non-null  float64\n",
      " 10  Type of Admission                  318438 non-null  object \n",
      " 11  Illness_Severity                   318438 non-null  object \n",
      " 12  Patient_Visitors                   318438 non-null  int64  \n",
      " 13  Age                                318438 non-null  object \n",
      " 14  Admission_Deposit                  318438 non-null  float64\n",
      " 15  Stay_Days                          318438 non-null  object \n",
      "dtypes: float64(3), int64(6), object(7)\n",
      "memory usage: 38.9+ MB\n"
     ]
    }
   ],
   "source": [
    "df.info()"
   ]
  },
  {
   "cell_type": "code",
   "execution_count": 45,
   "metadata": {
    "colab": {
     "base_uri": "https://localhost:8080/"
    },
    "executionInfo": {
     "elapsed": 567,
     "status": "ok",
     "timestamp": 1674112661480,
     "user": {
      "displayName": "Nice Kurosawa",
      "userId": "06857346688966198691"
     },
     "user_tz": -420
    },
    "id": "G3ZXs2hp_JnV",
    "outputId": "8c8d6763-277a-44f4-e6e8-932114bbba81"
   },
   "outputs": [
    {
     "data": {
      "text/plain": [
       "Hospital                                0\n",
       "Hospital_type                           0\n",
       "Hospital_city                           0\n",
       "Hospital_region                         0\n",
       "Available_Extra_Rooms_in_Hospital       0\n",
       "Department                              0\n",
       "Ward_Type                               0\n",
       "Ward_Facility                           0\n",
       "Bed_Grade                             113\n",
       "City_Code_Patient                    4532\n",
       "Type of Admission                       0\n",
       "Illness_Severity                        0\n",
       "Patient_Visitors                        0\n",
       "Age                                     0\n",
       "Admission_Deposit                       0\n",
       "Stay_Days                               0\n",
       "dtype: int64"
      ]
     },
     "execution_count": 45,
     "metadata": {},
     "output_type": "execute_result"
    }
   ],
   "source": [
    "df.isnull().sum()"
   ]
  },
  {
   "cell_type": "code",
   "execution_count": 46,
   "metadata": {
    "colab": {
     "base_uri": "https://localhost:8080/",
     "height": 394
    },
    "executionInfo": {
     "elapsed": 359,
     "status": "ok",
     "timestamp": 1674112667428,
     "user": {
      "displayName": "Nice Kurosawa",
      "userId": "06857346688966198691"
     },
     "user_tz": -420
    },
    "id": "i7EBABS3_u0y",
    "outputId": "3786cfbf-7697-454e-814d-1a2e2d96cdb1"
   },
   "outputs": [
    {
     "data": {
      "text/html": [
       "<div>\n",
       "<style scoped>\n",
       "    .dataframe tbody tr th:only-of-type {\n",
       "        vertical-align: middle;\n",
       "    }\n",
       "\n",
       "    .dataframe tbody tr th {\n",
       "        vertical-align: top;\n",
       "    }\n",
       "\n",
       "    .dataframe thead th {\n",
       "        text-align: right;\n",
       "    }\n",
       "</style>\n",
       "<table border=\"1\" class=\"dataframe\">\n",
       "  <thead>\n",
       "    <tr style=\"text-align: right;\">\n",
       "      <th></th>\n",
       "      <th>count</th>\n",
       "      <th>mean</th>\n",
       "      <th>std</th>\n",
       "      <th>min</th>\n",
       "      <th>25%</th>\n",
       "      <th>50%</th>\n",
       "      <th>75%</th>\n",
       "      <th>max</th>\n",
       "    </tr>\n",
       "  </thead>\n",
       "  <tbody>\n",
       "    <tr>\n",
       "      <th>Hospital</th>\n",
       "      <td>318438.0</td>\n",
       "      <td>18.318841</td>\n",
       "      <td>8.633755</td>\n",
       "      <td>1.0</td>\n",
       "      <td>11.0</td>\n",
       "      <td>19.0</td>\n",
       "      <td>26.0</td>\n",
       "      <td>32.0</td>\n",
       "    </tr>\n",
       "    <tr>\n",
       "      <th>Hospital_type</th>\n",
       "      <td>318438.0</td>\n",
       "      <td>1.256841</td>\n",
       "      <td>1.535712</td>\n",
       "      <td>0.0</td>\n",
       "      <td>0.0</td>\n",
       "      <td>1.0</td>\n",
       "      <td>2.0</td>\n",
       "      <td>6.0</td>\n",
       "    </tr>\n",
       "    <tr>\n",
       "      <th>Hospital_city</th>\n",
       "      <td>318438.0</td>\n",
       "      <td>4.771717</td>\n",
       "      <td>3.102535</td>\n",
       "      <td>1.0</td>\n",
       "      <td>2.0</td>\n",
       "      <td>5.0</td>\n",
       "      <td>7.0</td>\n",
       "      <td>13.0</td>\n",
       "    </tr>\n",
       "    <tr>\n",
       "      <th>Hospital_region</th>\n",
       "      <td>318438.0</td>\n",
       "      <td>0.778098</td>\n",
       "      <td>0.752527</td>\n",
       "      <td>0.0</td>\n",
       "      <td>0.0</td>\n",
       "      <td>1.0</td>\n",
       "      <td>1.0</td>\n",
       "      <td>2.0</td>\n",
       "    </tr>\n",
       "    <tr>\n",
       "      <th>Available_Extra_Rooms_in_Hospital</th>\n",
       "      <td>318438.0</td>\n",
       "      <td>3.197627</td>\n",
       "      <td>1.168171</td>\n",
       "      <td>0.0</td>\n",
       "      <td>2.0</td>\n",
       "      <td>3.0</td>\n",
       "      <td>4.0</td>\n",
       "      <td>24.0</td>\n",
       "    </tr>\n",
       "    <tr>\n",
       "      <th>Bed_Grade</th>\n",
       "      <td>318325.0</td>\n",
       "      <td>2.625807</td>\n",
       "      <td>0.873146</td>\n",
       "      <td>1.0</td>\n",
       "      <td>2.0</td>\n",
       "      <td>3.0</td>\n",
       "      <td>3.0</td>\n",
       "      <td>4.0</td>\n",
       "    </tr>\n",
       "    <tr>\n",
       "      <th>City_Code_Patient</th>\n",
       "      <td>313906.0</td>\n",
       "      <td>7.251859</td>\n",
       "      <td>4.745266</td>\n",
       "      <td>1.0</td>\n",
       "      <td>4.0</td>\n",
       "      <td>8.0</td>\n",
       "      <td>8.0</td>\n",
       "      <td>38.0</td>\n",
       "    </tr>\n",
       "    <tr>\n",
       "      <th>Patient_Visitors</th>\n",
       "      <td>318438.0</td>\n",
       "      <td>3.284099</td>\n",
       "      <td>1.764061</td>\n",
       "      <td>0.0</td>\n",
       "      <td>2.0</td>\n",
       "      <td>3.0</td>\n",
       "      <td>4.0</td>\n",
       "      <td>32.0</td>\n",
       "    </tr>\n",
       "    <tr>\n",
       "      <th>Admission_Deposit</th>\n",
       "      <td>318438.0</td>\n",
       "      <td>4880.749392</td>\n",
       "      <td>1086.776254</td>\n",
       "      <td>1800.0</td>\n",
       "      <td>4186.0</td>\n",
       "      <td>4741.0</td>\n",
       "      <td>5409.0</td>\n",
       "      <td>11008.0</td>\n",
       "    </tr>\n",
       "  </tbody>\n",
       "</table>\n",
       "</div>"
      ],
      "text/plain": [
       "                                      count         mean          std     min  \\\n",
       "Hospital                           318438.0    18.318841     8.633755     1.0   \n",
       "Hospital_type                      318438.0     1.256841     1.535712     0.0   \n",
       "Hospital_city                      318438.0     4.771717     3.102535     1.0   \n",
       "Hospital_region                    318438.0     0.778098     0.752527     0.0   \n",
       "Available_Extra_Rooms_in_Hospital  318438.0     3.197627     1.168171     0.0   \n",
       "Bed_Grade                          318325.0     2.625807     0.873146     1.0   \n",
       "City_Code_Patient                  313906.0     7.251859     4.745266     1.0   \n",
       "Patient_Visitors                   318438.0     3.284099     1.764061     0.0   \n",
       "Admission_Deposit                  318438.0  4880.749392  1086.776254  1800.0   \n",
       "\n",
       "                                      25%     50%     75%      max  \n",
       "Hospital                             11.0    19.0    26.0     32.0  \n",
       "Hospital_type                         0.0     1.0     2.0      6.0  \n",
       "Hospital_city                         2.0     5.0     7.0     13.0  \n",
       "Hospital_region                       0.0     1.0     1.0      2.0  \n",
       "Available_Extra_Rooms_in_Hospital     2.0     3.0     4.0     24.0  \n",
       "Bed_Grade                             2.0     3.0     3.0      4.0  \n",
       "City_Code_Patient                     4.0     8.0     8.0     38.0  \n",
       "Patient_Visitors                      2.0     3.0     4.0     32.0  \n",
       "Admission_Deposit                  4186.0  4741.0  5409.0  11008.0  "
      ]
     },
     "execution_count": 46,
     "metadata": {},
     "output_type": "execute_result"
    }
   ],
   "source": [
    "df.describe().T"
   ]
  },
  {
   "cell_type": "code",
   "execution_count": 47,
   "metadata": {
    "colab": {
     "base_uri": "https://localhost:8080/"
    },
    "executionInfo": {
     "elapsed": 349,
     "status": "ok",
     "timestamp": 1674045953334,
     "user": {
      "displayName": "Nice Kurosawa",
      "userId": "06857346688966198691"
     },
     "user_tz": -420
    },
    "id": "9MGFdi9M0zjK",
    "outputId": "07df007e-f07f-4f85-cc8f-1698f6d3ecea"
   },
   "outputs": [
    {
     "data": {
      "text/plain": [
       "Index(['Hospital', 'Hospital_type', 'Hospital_city', 'Hospital_region',\n",
       "       'Available_Extra_Rooms_in_Hospital', 'Department', 'Ward_Type',\n",
       "       'Ward_Facility', 'Bed_Grade', 'City_Code_Patient', 'Type of Admission',\n",
       "       'Illness_Severity', 'Patient_Visitors', 'Age', 'Admission_Deposit',\n",
       "       'Stay_Days'],\n",
       "      dtype='object')"
      ]
     },
     "execution_count": 47,
     "metadata": {},
     "output_type": "execute_result"
    }
   ],
   "source": [
    "df.columns"
   ]
  },
  {
   "cell_type": "code",
   "execution_count": 3,
   "metadata": {
    "id": "Cm7NZepd0zmD"
   },
   "outputs": [],
   "source": [
    "#Change column that should not be numerical value\n",
    "categorical_col = ['Hospital', 'Hospital_type', 'Hospital_city',\n",
    "       'Hospital_region', 'Bed_Grade', 'City_Code_Patient']\n",
    "\n",
    "df[categorical_col] = df[categorical_col].astype(str)"
   ]
  },
  {
   "cell_type": "code",
   "execution_count": 49,
   "metadata": {
    "colab": {
     "base_uri": "https://localhost:8080/",
     "height": 586
    },
    "executionInfo": {
     "elapsed": 1035,
     "status": "ok",
     "timestamp": 1674113646735,
     "user": {
      "displayName": "Nice Kurosawa",
      "userId": "06857346688966198691"
     },
     "user_tz": -420
    },
    "id": "yabm57JZ0z0M",
    "outputId": "38f5bad4-1253-417c-9713-54f66486d452"
   },
   "outputs": [
    {
     "data": {
      "text/plain": [
       "array([[<AxesSubplot:title={'center':'Available_Extra_Rooms_in_Hospital'}>,\n",
       "        <AxesSubplot:title={'center':'Patient_Visitors'}>],\n",
       "       [<AxesSubplot:title={'center':'Admission_Deposit'}>,\n",
       "        <AxesSubplot:>]], dtype=object)"
      ]
     },
     "execution_count": 49,
     "metadata": {},
     "output_type": "execute_result"
    },
    {
     "data": {
      "image/png": "[encoded data removed]",
      "text/plain": [
       "<Figure size 576x576 with 4 Axes>"
      ]
     },
     "metadata": {
      "needs_background": "light"
     },
     "output_type": "display_data"
    }
   ],
   "source": [
    "#Visualize data\n",
    "df.hist(figsize = (8,8))"
   ]
  },
  {
   "cell_type": "code",
   "execution_count": 50,
   "metadata": {
    "colab": {
     "base_uri": "https://localhost:8080/",
     "height": 1000
    },
    "executionInfo": {
     "elapsed": 2859,
     "status": "ok",
     "timestamp": 1674115141908,
     "user": {
      "displayName": "Nice Kurosawa",
      "userId": "06857346688966198691"
     },
     "user_tz": -420
    },
    "id": "lZ78Zwtm9nZh",
    "outputId": "b4b3587c-b907-46c3-dc7f-787924d01cbb"
   },
   "outputs": [
    {
     "data": {
      "image/png": "[encoded data removed]",
      "text/plain": [
       "<Figure size 1080x360 with 1 Axes>"
      ]
     },
     "metadata": {
      "needs_background": "light"
     },
     "output_type": "display_data"
    },
    {
     "data": {
      "image/png": "[encoded data removed]",
      "text/plain": [
       "<Figure size 1080x360 with 1 Axes>"
      ]
     },
     "metadata": {
      "needs_background": "light"
     },
     "output_type": "display_data"
    },
    {
     "data": {
      "image/png": "[encoded data removed]",
      "text/plain": [
       "<Figure size 1080x360 with 1 Axes>"
      ]
     },
     "metadata": {
      "needs_background": "light"
     },
     "output_type": "display_data"
    },
    {
     "data": {
      "image/png": "[encoded data removed]",
      "text/plain": [
       "<Figure size 1080x360 with 1 Axes>"
      ]
     },
     "metadata": {
      "needs_background": "light"
     },
     "output_type": "display_data"
    },
    {
     "data": {
      "image/png": "[encoded data removed]",
      "text/plain": [
       "<Figure size 1080x360 with 1 Axes>"
      ]
     },
     "metadata": {
      "needs_background": "light"
     },
     "output_type": "display_data"
    },
    {
     "data": {
      "image/png": "[encoded data removed]",
      "text/plain": [
       "<Figure size 1080x360 with 1 Axes>"
      ]
     },
     "metadata": {
      "needs_background": "light"
     },
     "output_type": "display_data"
    }
   ],
   "source": [
    "for col in categorical_col:\n",
    "  fig, ax = plt.subplots(figsize = (15,5))\n",
    "  sns.countplot(x = col, data = df)\n",
    "  plt.show()"
   ]
  },
  {
   "cell_type": "markdown",
   "metadata": {},
   "source": [
    "### **2. Preprocessing**\n",
    "- Fill NA\n",
    "- Group some categorical values to significant categories; Age and Length of stay (LOS) \n",
    "- Transform skew data to normal distribution"
   ]
  },
  {
   "cell_type": "code",
   "execution_count": 13,
   "metadata": {},
   "outputs": [],
   "source": [
    "df2 = df.copy()"
   ]
  },
  {
   "cell_type": "code",
   "execution_count": 14,
   "metadata": {
    "id": "teR4KanN9oNc"
   },
   "outputs": [],
   "source": [
    "#Patients who went to same hospital are likely to live in same city\n",
    "df2['City_Code_Patient'] = df2.groupby(by = 'Hospital_city')[['City_Code_Patient']].transform(lambda x: x.fillna(x.median()))"
   ]
  },
  {
   "cell_type": "code",
   "execution_count": 15,
   "metadata": {
    "id": "8rLOvwrV9oQT"
   },
   "outputs": [],
   "source": [
    "#Fill with most common value\n",
    "df2['Bed_Grade'] = df2['Bed_Grade'].fillna(df2['Bed_Grade'].mode())"
   ]
  },
  {
   "cell_type": "code",
   "execution_count": 16,
   "metadata": {
    "colab": {
     "base_uri": "https://localhost:8080/"
    },
    "executionInfo": {
     "elapsed": 5,
     "status": "ok",
     "timestamp": 1674134916142,
     "user": {
      "displayName": "Nice Kurosawa",
      "userId": "06857346688966198691"
     },
     "user_tz": -420
    },
    "id": "DkZux17Y9oSx",
    "outputId": "a557b9c3-dba4-49cc-a180-dd10f953f7f2"
   },
   "outputs": [
    {
     "data": {
      "text/plain": [
       "Hospital                             0.0\n",
       "Hospital_type                        0.0\n",
       "Hospital_city                        0.0\n",
       "Hospital_region                      0.0\n",
       "Available_Extra_Rooms_in_Hospital    0.0\n",
       "Department                           0.0\n",
       "Ward_Type                            0.0\n",
       "Ward_Facility                        0.0\n",
       "Bed_Grade                            0.0\n",
       "City_Code_Patient                    0.0\n",
       "Type of Admission                    0.0\n",
       "Illness_Severity                     0.0\n",
       "Patient_Visitors                     0.0\n",
       "Age                                  0.0\n",
       "Admission_Deposit                    0.0\n",
       "Stay_Days                            0.0\n",
       "dtype: float64"
      ]
     },
     "execution_count": 16,
     "metadata": {},
     "output_type": "execute_result"
    }
   ],
   "source": [
    "df2.isnull().mean()*100"
   ]
  },
  {
   "cell_type": "code",
   "execution_count": 17,
   "metadata": {
    "id": "q5Z_0qH63ZU7"
   },
   "outputs": [],
   "source": [
    "#Divide LOS to Short, medium, and long stay \n",
    "short = ['0-10']\n",
    "medium = ['11-20', '21-30', '31-40']\n",
    "long = ['41-50', '51-60',  '71-80', 'More than 100 Days', '81-90', '61-70', '91-100']\n",
    "\n",
    "df2.loc[df2['Stay_Days'].isin(short) == True, 'Stay_Days'] = 'short'\n",
    "df2.loc[df2['Stay_Days'].isin(medium) == True, 'Stay_Days'] = 'medium'\n",
    "df2.loc[df2['Stay_Days'].isin(long) == True, 'Stay_Days'] = 'long'"
   ]
  },
  {
   "cell_type": "code",
   "execution_count": 18,
   "metadata": {
    "id": "Wf6Xd-CCYQq2"
   },
   "outputs": [],
   "source": [
    "#Divide patients into young, adult, and elder according to risk of getting severe disease \n",
    "young = ['0-10', '11-20']\n",
    "adult = ['21-30', '31-40', '41-50', '51-60']\n",
    "elder = ['61-70', '71-80', '81-90', '91-100']\n",
    "\n",
    "df2.loc[df2['Age'].isin(young) == True, 'Age'] = '1'\n",
    "df2.loc[df2['Age'].isin(adult) == True, 'Age'] = '2'\n",
    "df2.loc[df2['Age'].isin(elder) == True, 'Age'] = '3'"
   ]
  },
  {
   "cell_type": "code",
   "execution_count": 19,
   "metadata": {
    "id": "qMqd3WYG9oVb"
   },
   "outputs": [],
   "source": [
    "# Normalize skewed features using log_transformation\n",
    "from scipy.stats import skew\n",
    "numeric_features = df2.dtypes[df2.dtypes != object].index\n",
    "skewed_features = df2[numeric_features].apply(lambda x: skew(x)).sort_values(ascending=False)\n",
    "high_skew = skewed_features[skewed_features > 0.5]\n",
    "skew_index = high_skew.index\n",
    "    \n",
    "for i in skew_index:\n",
    "    df2[i] = np.log1p(df[i])"
   ]
  },
  {
   "cell_type": "code",
   "execution_count": 20,
   "metadata": {
    "colab": {
     "base_uri": "https://localhost:8080/",
     "height": 368
    },
    "executionInfo": {
     "elapsed": 1147,
     "status": "ok",
     "timestamp": 1674226595086,
     "user": {
      "displayName": "Nice Kurosawa",
      "userId": "06857346688966198691"
     },
     "user_tz": -420
    },
    "id": "-e_glxlL9oYS",
    "outputId": "b5632c06-7aeb-4930-8be2-0861f2e61e99"
   },
   "outputs": [
    {
     "data": {
      "text/plain": [
       "array([[<AxesSubplot:title={'center':'Available_Extra_Rooms_in_Hospital'}>,\n",
       "        <AxesSubplot:title={'center':'Patient_Visitors'}>],\n",
       "       [<AxesSubplot:title={'center':'Admission_Deposit'}>,\n",
       "        <AxesSubplot:>]], dtype=object)"
      ]
     },
     "execution_count": 20,
     "metadata": {},
     "output_type": "execute_result"
    },
    {
     "data": {
      "image/png": "[encoded data removed]",
      "text/plain": [
       "<Figure size 432x288 with 4 Axes>"
      ]
     },
     "metadata": {
      "needs_background": "light"
     },
     "output_type": "display_data"
    }
   ],
   "source": [
    "df2.hist()"
   ]
  },
  {
   "cell_type": "markdown",
   "metadata": {},
   "source": [
    "### **3. Machine Learning**\n",
    "- Seperate features and target\n",
    "- Train&test split\n",
    "- Pipeline for feature engineering and modelling \n",
    "- Cross validation \n",
    "- Model evaluation"
   ]
  },
  {
   "cell_type": "code",
   "execution_count": 32,
   "metadata": {
    "id": "vEuirnOA0zxq"
   },
   "outputs": [],
   "source": [
    "X = df2.drop('Stay_Days', axis = 1)\n",
    "y = df2['Stay_Days']"
   ]
  },
  {
   "cell_type": "code",
   "execution_count": 33,
   "metadata": {
    "id": "klbtAU-T0z2k"
   },
   "outputs": [],
   "source": [
    "from sklearn.model_selection import train_test_split\n",
    "X_train, X_test, y_train, y_test = train_test_split(X, y, test_size=0.2, random_state=42)"
   ]
  },
  {
   "cell_type": "code",
   "execution_count": 23,
   "metadata": {
    "id": "qWBZzdeOFxLK"
   },
   "outputs": [],
   "source": [
    "from sklearn.compose import ColumnTransformer\n",
    "from sklearn.pipeline import Pipeline\n",
    "from sklearn.preprocessing import OneHotEncoder, OrdinalEncoder, StandardScaler\n",
    "from sklearn.metrics import classification_report, confusion_matrix, accuracy_score"
   ]
  },
  {
   "cell_type": "code",
   "execution_count": 24,
   "metadata": {
    "id": "LIQciyaUK9l0"
   },
   "outputs": [],
   "source": [
    "numerical_cols = ['Available_Extra_Rooms_in_Hospital', 'Patient_Visitors', 'Admission_Deposit']\n",
    "categorical_cols = ['Hospital', 'Hospital_type', 'Hospital_city', 'Hospital_region',\n",
    "        'Department', 'Ward_Type', 'Ward_Facility',  'City_Code_Patient', 'Type of Admission']\n",
    "order_cols = ['Bed_Grade', 'Illness_Severity',  'Age']\n",
    "\n",
    "# Preprocessing for numerical data\n",
    "numerical_transformer = StandardScaler()\n",
    "\n",
    "# Preprocessing for categorical data\n",
    "categorical_transformer = OneHotEncoder(handle_unknown='ignore')\n",
    "Ordinal_transformer =  OrdinalEncoder()\n",
    "\n",
    "\n",
    "# Bundle preprocessing for numerical and categorical data\n",
    "preprocessor = ColumnTransformer(\n",
    "    transformers=[\n",
    "        ('num', numerical_transformer, numerical_cols),\n",
    "        ('cat', categorical_transformer, categorical_cols),\n",
    "        ('order', Ordinal_transformer, order_cols)\n",
    "    ], remainder=\"passthrough\")"
   ]
  },
  {
   "cell_type": "code",
   "execution_count": 25,
   "metadata": {
    "id": "iORI_1EMMf8M"
   },
   "outputs": [],
   "source": [
    "#Build classification model\n",
    "from sklearn.ensemble import RandomForestClassifier, AdaBoostClassifier\n",
    "from xgboost import XGBClassifier\n",
    "\n",
    "RF = RandomForestClassifier()\n",
    "Ada = AdaBoostClassifier(n_estimators = 70)\n",
    "XGB = XGBClassifier()\n",
    "\n",
    "#Bundle pipeline for preprocessor and model \n",
    "pipeline = Pipeline(steps=[('preprocessor', preprocessor),\n",
    "                              ('model', Ada)\n",
    "                             ])"
   ]
  },
  {
   "cell_type": "code",
   "execution_count": 64,
   "metadata": {
    "colab": {
     "base_uri": "https://localhost:8080/"
    },
    "executionInfo": {
     "elapsed": 2022481,
     "status": "ok",
     "timestamp": 1674235271544,
     "user": {
      "displayName": "Nice Kurosawa",
      "userId": "06857346688966198691"
     },
     "user_tz": -420
    },
    "id": "Xq2eq3lePm-l",
    "outputId": "5d804033-dba6-46d3-d3fb-d056a1bd5988"
   },
   "outputs": [],
   "source": [
    "#Serch for best parameter for model \n",
    "from sklearn.model_selection import StratifiedKFold\n",
    "from sklearn.model_selection import GridSearchCV\n",
    "\n",
    "param_grid = {\n",
    "    'model__n_estimators': [20, 50, 70, 100],\n",
    "    'model__learning_rate': [0.01, 0.1, 1.0]\n",
    "}\n",
    "\n",
    "kfold = StratifiedKFold(n_splits=5, shuffle=True, random_state=7)\n",
    "grid_pipeline = GridSearchCV(pipeline, param_grid, cv=kfold)\n",
    "grid_pipeline.fit(X_train, y_train)\n",
    "print(\"Best parameter (CV score=%0.3f):\" % grid_pipeline.best_score_)\n",
    "print(grid_pipeline.best_params_)"
   ]
  },
  {
   "cell_type": "code",
   "execution_count": 27,
   "metadata": {
    "colab": {
     "base_uri": "https://localhost:8080/"
    },
    "executionInfo": {
     "elapsed": 32421,
     "status": "ok",
     "timestamp": 1674229963653,
     "user": {
      "displayName": "Nice Kurosawa",
      "userId": "06857346688966198691"
     },
     "user_tz": -420
    },
    "id": "A_GNs38xb93G",
    "outputId": "c3cb2136-2c98-4779-9553-91a4ca0a1bb4"
   },
   "outputs": [
    {
     "data": {
      "text/plain": [
       "Pipeline(steps=[('preprocessor',\n",
       "                 ColumnTransformer(remainder='passthrough',\n",
       "                                   transformers=[('num', StandardScaler(),\n",
       "                                                  ['Available_Extra_Rooms_in_Hospital',\n",
       "                                                   'Patient_Visitors',\n",
       "                                                   'Admission_Deposit']),\n",
       "                                                 ('cat',\n",
       "                                                  OneHotEncoder(handle_unknown='ignore'),\n",
       "                                                  ['Hospital', 'Hospital_type',\n",
       "                                                   'Hospital_city',\n",
       "                                                   'Hospital_region',\n",
       "                                                   'Department', 'Ward_Type',\n",
       "                                                   'Ward_Facility',\n",
       "                                                   'City_Code_Patient',\n",
       "                                                   'Type of Admission']),\n",
       "                                                 ('order', OrdinalEncoder(),\n",
       "                                                  ['Bed_Grade',\n",
       "                                                   'Illness_Severity',\n",
       "                                                   'Age'])])),\n",
       "                ('model', AdaBoostClassifier(n_estimators=70))])"
      ]
     },
     "execution_count": 27,
     "metadata": {},
     "output_type": "execute_result"
    }
   ],
   "source": [
    "#Fit model \n",
    "pipeline.fit(X_train, y_train)"
   ]
  },
  {
   "cell_type": "code",
   "execution_count": 28,
   "metadata": {
    "colab": {
     "base_uri": "https://localhost:8080/"
    },
    "executionInfo": {
     "elapsed": 1726,
     "status": "ok",
     "timestamp": 1674229973814,
     "user": {
      "displayName": "Nice Kurosawa",
      "userId": "06857346688966198691"
     },
     "user_tz": -420
    },
    "id": "8oYnhes3kEI3",
    "outputId": "4801421d-20d2-43bc-ef72-050da33f2602"
   },
   "outputs": [
    {
     "name": "stdout",
     "output_type": "stream",
     "text": [
      "Accuracy score: 0.7518998869488758\n"
     ]
    }
   ],
   "source": [
    "# Get predictions and accuracy of the model\n",
    "y_pred = pipeline.predict(X_test)\n",
    "\n",
    "acc = accuracy_score(y_test, y_pred)\n",
    "print(f'Accuracy score: {acc}')"
   ]
  },
  {
   "cell_type": "code",
   "execution_count": 67,
   "metadata": {
    "id": "edDxmW5GF46y"
   },
   "outputs": [
    {
     "name": "stdout",
     "output_type": "stream",
     "text": [
      "[[ 6218  8565    71]\n",
      " [ 2317 41479   349]\n",
      " [   54  4445   190]]\n",
      "              precision    recall  f1-score   support\n",
      "\n",
      "        long       0.72      0.42      0.53     14854\n",
      "      medium       0.76      0.94      0.84     44145\n",
      "       short       0.31      0.04      0.07      4689\n",
      "\n",
      "    accuracy                           0.75     63688\n",
      "   macro avg       0.60      0.47      0.48     63688\n",
      "weighted avg       0.72      0.75      0.71     63688\n",
      "\n"
     ]
    }
   ],
   "source": [
    "#Model evaluation with confusion matrix\n",
    "from sklearn.metrics import confusion_matrix, classification_report\n",
    "cm = confusion_matrix(y_test, y_pred)\n",
    "print(cm)\n",
    "print(classification_report(y_test, y_pred))"
   ]
  }
 ],
 "metadata": {
  "colab": {
   "authorship_tag": "ABX9TyOPyQnRDISLRHqdkEqV9+nz",
   "provenance": []
  },
  "kernelspec": {
   "display_name": "Python 3",
   "language": "python",
   "name": "python3"
  },
  "language_info": {
   "codemirror_mode": {
    "name": "ipython",
    "version": 3
   },
   "file_extension": ".py",
   "mimetype": "text/x-python",
   "name": "python",
   "nbconvert_exporter": "python",
   "pygments_lexer": "ipython3",
   "version": "3.7.16"
  }
 },
 "nbformat": 4,
 "nbformat_minor": 4
}
